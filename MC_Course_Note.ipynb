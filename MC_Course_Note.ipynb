{
  "nbformat": 4,
  "nbformat_minor": 0,
  "metadata": {
    "colab": {
      "name": "MC Course Note.ipynb",
      "provenance": [],
      "collapsed_sections": [],
      "authorship_tag": "ABX9TyM41EPp+l+oM+O5KcMazlSU",
      "include_colab_link": true
    },
    "kernelspec": {
      "name": "python3",
      "display_name": "Python 3"
    }
  },
  "cells": [
    {
      "cell_type": "markdown",
      "metadata": {
        "id": "view-in-github",
        "colab_type": "text"
      },
      "source": [
        "<a href=\"https://colab.research.google.com/github/dhgiang85/ML-Giant/blob/master/MC_Course_Note.ipynb\" target=\"_parent\"><img src=\"https://colab.research.google.com/assets/colab-badge.svg\" alt=\"Open In Colab\"/></a>"
      ]
    },
    {
      "cell_type": "markdown",
      "metadata": {
        "id": "Jx4kfLAxu1ZE",
        "colab_type": "text"
      },
      "source": [
        "In section 1, I learned:\n",
        "\n",
        "* **Tensorflow** is one of the most popular Python libraries for machine learning and deep learning\n",
        "\n",
        "* **Pandas** is a Python library used to prepare structured data\n",
        "\n",
        "* **Numpy** is a Python library used to transform data, which is an important step in machine learning\n",
        "\n",
        "* **Matploblib** is a powerful, easy to use plotting library for Python\n",
        "\n",
        "* **Jupyter notebook** is a popular web based development environment for machine learning and data science\n",
        "\n",
        "* **Jupyter notebooks** can contain formatted text, working code in several languages, multimedia output, math markup and more\n",
        "> - Text Cells - [Markdown cheat sheet](https://github.com/adam-p/markdown-here/wiki/Markdown-Cheatsheet)\n",
        "> - Code Cells\n",
        "> - Math Markup and Magic Commands\n",
        "\n",
        "* [Google Colaboratory](https://colab.research.google.com/) using for save & edit Jypyternotebooks in web cloud\n",
        "* **Github** store notebook\n",
        "\n",
        "* Github of teacher : *msiddalingaiah*\n",
        "\n"
      ]
    }
  ]
}
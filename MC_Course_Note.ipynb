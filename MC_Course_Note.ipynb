{
  "nbformat": 4,
  "nbformat_minor": 0,
  "metadata": {
    "colab": {
      "name": "MC Course Note.ipynb",
      "provenance": [],
      "collapsed_sections": [],
      "authorship_tag": "ABX9TyPorsdmx1PafzpYX3BM/iYf",
      "include_colab_link": true
    },
    "kernelspec": {
      "name": "python3",
      "display_name": "Python 3"
    }
  },
  "cells": [
    {
      "cell_type": "markdown",
      "metadata": {
        "id": "view-in-github",
        "colab_type": "text"
      },
      "source": [
        "<a href=\"https://colab.research.google.com/github/dhgiang85/ML-Giant/blob/master/MC_Course_Note.ipynb\" target=\"_parent\"><img src=\"https://colab.research.google.com/assets/colab-badge.svg\" alt=\"Open In Colab\"/></a>"
      ]
    },
    {
      "cell_type": "markdown",
      "metadata": {
        "id": "Jx4kfLAxu1ZE",
        "colab_type": "text"
      },
      "source": [
        "### Jupyter notebook\n",
        "### Goolge Colab\n",
        "### Github\n",
        "### Mối liên hệ giữa 3 thằng này như thế?\n",
        "1. Cài đặt Jupyter notebook về máy tính\n",
        "2. Mở Jupyter notebook tại google colab - save tại Drive chưa save tại Jupyter được\n",
        "\n",
        "\n",
        "\n"
      ]
    },
    {
      "cell_type": "code",
      "metadata": {
        "id": "a7cpcV0bulAY",
        "colab_type": "code",
        "outputId": "a1279412-77b8-42d3-a636-a441917ceefc",
        "colab": {
          "base_uri": "https://localhost:8080/",
          "height": 34
        }
      },
      "source": [
        "print('My first notebook!')"
      ],
      "execution_count": 0,
      "outputs": [
        {
          "output_type": "stream",
          "text": [
            "My first notebook!\n"
          ],
          "name": "stdout"
        }
      ]
    },
    {
      "cell_type": "code",
      "metadata": {
        "id": "qI3cIqCguglW",
        "colab_type": "code",
        "colab": {}
      },
      "source": [
        ""
      ],
      "execution_count": 0,
      "outputs": []
    }
  ]
}